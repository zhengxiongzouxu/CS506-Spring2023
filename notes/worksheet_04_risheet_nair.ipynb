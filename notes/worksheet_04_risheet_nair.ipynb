{
 "cells": [
  {
   "attachments": {},
   "cell_type": "markdown",
   "metadata": {},
   "source": [
    "# Worksheet 04\n",
    "\n",
    "Name: Risheet Nair \n",
    "UID: U87299654\n",
    "\n",
    "### Topics\n",
    "\n",
    "- Distance & Similarity\n",
    "- Cost Functions\n",
    "- K means"
   ]
  },
  {
   "cell_type": "markdown",
   "metadata": {},
   "source": [
    "### Distance & Similarity\n",
    "\n",
    "#### Part 1\n",
    "\n",
    "a) In the minkowski distance, describe what the parameters p and d are."
   ]
  },
  {
   "attachments": {},
   "cell_type": "markdown",
   "metadata": {},
   "source": [
    "d is the dimension of the vector space(each vector is represented by 10 values)<br>\n",
    "p is a parameter to make the distance function more flexible(basically a way to parametrize the function)"
   ]
  },
  {
   "cell_type": "markdown",
   "metadata": {},
   "source": [
    "b) In your own words describe the difference between the Euclidean distance and the Manhattan distance."
   ]
  },
  {
   "attachments": {},
   "cell_type": "markdown",
   "metadata": {},
   "source": [
    "The Euclidean distance is essentially just the shortest distance between points and is usually depicted by a straight line.<br>\n",
    "The Manhattan distance is the sum of all the line distances between points. With the Manhattan distance, we cannot go diagonally. Instead we must always follow the grid lines to calculate our distance."
   ]
  },
  {
   "attachments": {},
   "cell_type": "markdown",
   "metadata": {},
   "source": [
    "Consider A = (0, 0) and B = (1, 1). When:\n",
    "\n",
    "- p = 1, d(A, B) = 2\n",
    "- p = 2, d(A, B) = $\\sqrt{2} = 1.41$\n",
    "- p = 3, d(A, B) = $2^{1/3} = 1.26$\n",
    "- p = 4, d(A, B) = $2^{1/4} = 1.19$\n",
    "\n",
    "c) Describe what you think distance would look like when p is very large."
   ]
  },
  {
   "attachments": {},
   "cell_type": "markdown",
   "metadata": {},
   "source": [
    "When p is very large, the distance will get closer and closer to 1."
   ]
  },
  {
   "cell_type": "markdown",
   "metadata": {},
   "source": [
    "d) Is the minkowski distance still a distance function when p < 1? Expain why / why not."
   ]
  },
  {
   "attachments": {},
   "cell_type": "markdown",
   "metadata": {},
   "source": [
    "No. There is a counterexample in which point $A=(0,0)$, $B=(1,0)$, $C=(0,1)$. If $p < 1$, then $D(B,C) = 2^{1/p}$ which would result in a distance greater than $2$. So $D(B, C) > D(B, A) + D(A, C)$ which violates the triangle inequality."
   ]
  },
  {
   "cell_type": "markdown",
   "metadata": {},
   "source": [
    "e) when would you use cosine similarity over the euclidan distance?"
   ]
  },
  {
   "attachments": {},
   "cell_type": "markdown",
   "metadata": {},
   "source": [
    "We use cosine similarity over Euclidean distance when the direction of the vector(s) matters more than the magnitude."
   ]
  },
  {
   "cell_type": "markdown",
   "metadata": {},
   "source": [
    "f) what does the jaccard distance account for that the manhattan distance doesn't?"
   ]
  },
  {
   "attachments": {},
   "cell_type": "markdown",
   "metadata": {},
   "source": [
    "The Jaccard distance accounts for the size of the intersection between say 2 documents $x$ and $y$ whereas Manhattan distance would not be able to distinguish between the set differences."
   ]
  },
  {
   "attachments": {},
   "cell_type": "markdown",
   "metadata": {},
   "source": [
    "#### Part 2\n",
    "\n",
    "Consider the following two sentences:"
   ]
  },
  {
   "cell_type": "code",
   "execution_count": 1,
   "metadata": {},
   "outputs": [],
   "source": [
    "s1 = \"hello my name is Alice\"  \n",
    "s2 = \"hello my name is Bob\""
   ]
  },
  {
   "cell_type": "markdown",
   "metadata": {},
   "source": [
    "using the union of words from both sentences, we can represent each sentence as a vector. Each element of the vector represents the presence or absence of the word at that index.\n",
    "\n",
    "In this example, the union of words is (\"hello\", \"my\", \"name\", \"is\", \"Alice\", \"Bob\") so we can represent the above sentences as such:"
   ]
  },
  {
   "cell_type": "code",
   "execution_count": 2,
   "metadata": {},
   "outputs": [],
   "source": [
    "v1 = [1,    1, 1,   1, 1,    0]\n",
    "#     hello my name is Alice\n",
    "v2 = [1,    1, 1,   1, 0, 1]\n",
    "#     hello my name is    Bob"
   ]
  },
  {
   "attachments": {},
   "cell_type": "markdown",
   "metadata": {},
   "source": [
    "Programmatically, we can do the following:"
   ]
  },
  {
   "cell_type": "code",
   "execution_count": 3,
   "metadata": {},
   "outputs": [
    {
     "name": "stdout",
     "output_type": "stream",
     "text": [
      "['hello', 'Alice', 'Bob', 'name', 'my', 'is']\n",
      "[1, 1, 0, 1, 1, 1]\n"
     ]
    }
   ],
   "source": [
    "corpus = [s1, s2]\n",
    "all_words = list(set([item for x in corpus for item in x.split()]))\n",
    "print(all_words)\n",
    "v1 = [1 if x in s1 else 0 for x in all_words]\n",
    "print(v1)"
   ]
  },
  {
   "cell_type": "markdown",
   "metadata": {},
   "source": [
    "Let's add a new sentence to our corpus:"
   ]
  },
  {
   "cell_type": "code",
   "execution_count": 4,
   "metadata": {},
   "outputs": [],
   "source": [
    "s3 = \"hi my name is Claude\"\n",
    "corpus.append(s3)"
   ]
  },
  {
   "cell_type": "markdown",
   "metadata": {},
   "source": [
    "a) What is the new union of words used to represent s1, s2, and s3?"
   ]
  },
  {
   "cell_type": "code",
   "execution_count": 5,
   "metadata": {},
   "outputs": [
    {
     "name": "stdout",
     "output_type": "stream",
     "text": [
      "['hello', 'Alice', 'Bob', 'name', 'Claude', 'my', 'is', 'hi']\n"
     ]
    }
   ],
   "source": [
    "all_words = list(set([item for x in corpus for item in x.split()]))\n",
    "print(all_words)"
   ]
  },
  {
   "attachments": {},
   "cell_type": "markdown",
   "metadata": {},
   "source": [
    "b) Represent s1, s2, and s3 as vectors as above, using this new set of words."
   ]
  },
  {
   "cell_type": "code",
   "execution_count": 6,
   "metadata": {},
   "outputs": [
    {
     "name": "stdout",
     "output_type": "stream",
     "text": [
      "[1, 1, 0, 1, 0, 1, 1, 0]\n",
      "[1, 0, 1, 1, 0, 1, 1, 0]\n",
      "[0, 0, 0, 1, 1, 1, 1, 1]\n"
     ]
    }
   ],
   "source": [
    "v1 = [1 if x in s1 else 0 for x in all_words]\n",
    "print(v1)\n",
    "\n",
    "v2 = [1 if x in s2 else 0 for x in all_words]\n",
    "print(v2)\n",
    "\n",
    "v3 = [1 if x in s3 else 0 for x in all_words]\n",
    "print(v3)\n"
   ]
  },
  {
   "cell_type": "markdown",
   "metadata": {},
   "source": [
    "c) Write a function that computes the manhattan distance between two vectors. Which pair of vectors are the most similar under that distance function?"
   ]
  },
  {
   "cell_type": "code",
   "execution_count": 10,
   "metadata": {},
   "outputs": [
    {
     "name": "stdout",
     "output_type": "stream",
     "text": [
      "Distance between v1 and v2: 2\n",
      "Distance between v2 and v3: 4\n",
      "Distance between v1 and v3: 4\n"
     ]
    }
   ],
   "source": [
    "def manhattan_distance(v1, v2):\n",
    "    zipped_vecs = zip(v1, v2)\n",
    "    return sum(abs(x1 - x2) for x1, x2 in zipped_vecs)\n",
    "    # res = 0\n",
    "    # for i in range(len(v1)):\n",
    "    #     res += abs(v1[i] - v2[i])\n",
    "        \n",
    "    # return res\n",
    "\n",
    "\n",
    "print('Distance between v1 and v2:', manhattan_distance(v1, v2))\n",
    "print('Distance between v2 and v3:', manhattan_distance(v2, v3))\n",
    "print('Distance between v1 and v3:', manhattan_distance(v1, v3))"
   ]
  },
  {
   "attachments": {},
   "cell_type": "markdown",
   "metadata": {},
   "source": [
    "$v1$ and $v2$ are most similar as the distance is the smallest."
   ]
  },
  {
   "cell_type": "markdown",
   "metadata": {},
   "source": [
    "d) Create a matrix of all these vectors (row major) and add the following sentences in vector form:\n",
    "\n",
    "- \"hi Alice\"\n",
    "- \"hello Claude\"\n",
    "- \"Bob my name is Claude\"\n",
    "- \"hi Claude my name is Alice\"\n",
    "- \"hello Bob\""
   ]
  },
  {
   "cell_type": "code",
   "execution_count": 12,
   "metadata": {},
   "outputs": [
    {
     "name": "stdout",
     "output_type": "stream",
     "text": [
      "[[1 1 0 1 0 1 1 0]\n",
      " [1 0 1 1 0 1 1 0]\n",
      " [0 0 0 1 1 1 1 1]\n",
      " [0 1 0 0 0 0 0 1]\n",
      " [1 0 0 0 1 0 0 0]\n",
      " [0 0 1 1 1 1 1 0]\n",
      " [0 1 0 1 1 1 1 1]\n",
      " [1 0 1 0 0 0 0 0]]\n"
     ]
    }
   ],
   "source": [
    "import numpy as np\n",
    "\n",
    "s4 = \"hi Alice\"\n",
    "corpus.append(s4)\n",
    "v4 = [1 if x in s4 else 0 for x in all_words]\n",
    "\n",
    "s5 = \"hello Claude\"\n",
    "corpus.append(s5)\n",
    "v5 = [1 if x in s5 else 0 for x in all_words]\n",
    "\n",
    "s6 = \"Bob my name is Claude\"\n",
    "corpus.append(s6)\n",
    "v6 = [1 if x in s6 else 0 for x in all_words]\n",
    "\n",
    "s7 = \"hi Claude my name is Alice\"\n",
    "corpus.append(s7)\n",
    "v7 = [1 if x in s7 else 0 for x in all_words]\n",
    "\n",
    "s8 = \"hello Bob\"\n",
    "corpus.append(s8)\n",
    "v8 = [1 if x in s8 else 0 for x in all_words]\n",
    "\n",
    "matrix = []\n",
    "matrix.append(v1)\n",
    "matrix.append(v2)\n",
    "matrix.append(v3)\n",
    "matrix.append(v4)\n",
    "matrix.append(v5)\n",
    "matrix.append(v6)\n",
    "matrix.append(v7)\n",
    "matrix.append(v8)\n",
    "\n",
    "matrix = np.array(matrix)\n",
    "print(matrix)\n"
   ]
  },
  {
   "cell_type": "markdown",
   "metadata": {},
   "source": [
    "e) How many rows and columns does this matrix have?"
   ]
  },
  {
   "cell_type": "code",
   "execution_count": 13,
   "metadata": {},
   "outputs": [
    {
     "name": "stdout",
     "output_type": "stream",
     "text": [
      "(8, 8)\n"
     ]
    }
   ],
   "source": [
    "print(matrix.shape)"
   ]
  },
  {
   "attachments": {},
   "cell_type": "markdown",
   "metadata": {},
   "source": [
    "f) When using the Manhattan distance, which two sentences are the most similar?"
   ]
  },
  {
   "cell_type": "code",
   "execution_count": 15,
   "metadata": {},
   "outputs": [
    {
     "name": "stdout",
     "output_type": "stream",
     "text": [
      "The most similar sentences are sentence 3 and sentence 7\n"
     ]
    }
   ],
   "source": [
    "lowest_dist = manhattan_distance(v1, v2)\n",
    "most_similar = (1, 2)\n",
    "\n",
    "for i in range(1, 9):\n",
    "    for j in range(i + 1, 9):\n",
    "        if manhattan_distance(matrix[i - 1], matrix[j - 1]) < lowest_dist:\n",
    "            lowest_dist = manhattan_distance(matrix[i - 1], matrix[j - 1])\n",
    "            most_similar = (i, j)\n",
    "            \n",
    "print('The most similar sentences are sentence', str(most_similar[0]), 'and sentence', str(most_similar[1]))\n"
   ]
  },
  {
   "cell_type": "markdown",
   "metadata": {},
   "source": []
  },
  {
   "attachments": {},
   "cell_type": "markdown",
   "metadata": {},
   "source": [
    "### Cost Function\n",
    "\n",
    "Solving Data Science problems often starts by defining a metric with which to evaluate solutions were you able to find some. This metric is called a cost function. Data Science then backtracks and tries to find a process / algorithm to find solutions that can optimize for that cost function.\n",
    "\n",
    "For example suppose you are asked to cluster three points A, B, C into two non-empty clusters. If someone gave you the solution `{A, B}, {C}`, how would you evaluate that this is a good solution?\n",
    "\n",
    "Notice that because the clusters need to be non-empty and all points must be assigned to a cluster, it must be that two of the three points will be together in one cluster and the third will be alone in the other cluster.\n",
    "\n",
    "In the above solution, if A and B are closer than A and C, and B and C, then this is a good solution. The smaller the distance between the two points in the same cluster (here A and B), the better the solution. So we can define our cost function to be that distance (between A and B here)!\n",
    "\n",
    "The algorithm / process would involve clustering together the two closest points and put the third in its own cluster. This process optimizes for that cost function because no other pair of points could have a lower distance (although it could equal it)."
   ]
  },
  {
   "cell_type": "markdown",
   "metadata": {},
   "source": [
    "### K means\n",
    "\n",
    "a) (1-dimensional clustering) Walk through Lloyd's algorithm step by step on the following dataset:\n",
    "\n",
    "`[0, .5, 1.5, 2, 6, 6.5, 7]` (note: each of these are 1-dimensional data points)\n",
    "\n",
    "Given the initial centroids:\n",
    "\n",
    "`[0, 2]`"
   ]
  },
  {
   "attachments": {},
   "cell_type": "markdown",
   "metadata": {},
   "source": [
    "**1st Iteration**:<br>\n",
    "Initial 2 centroids : `[0, 2]`<br>\n",
    "Cluster 1: `[0, 0.5]`<br>\n",
    "Cluster 2: `[1.5, 2, 6, 6.5, 7]`<br>\n",
    "New Center 1: $0.25$<br>\n",
    "New Center 2: $4.6$<br><br>\n",
    "\n",
    "**2nd Iteration**:<br>\n",
    "Centroids : `[0.25, 4.6]`<br>\n",
    "Cluster 1: `[0, 0.5, 1.5, 2]`<br>\n",
    "Cluster 2: `[6, 6.5, 7]`<br>\n",
    "New Center 1: $1$<br>\n",
    "New Center 2: $6.5$<br><br>\n",
    "\n",
    "**3rd Iteration**:<br>\n",
    "Centroids : `[1, 6.5]`<br>\n",
    "Cluster 1: `[0, 0.5, 1.5, 2]`<br>\n",
    "Cluster 2: `[6, 6.5, 7]`<br>\n",
    "New Center 1: $1$<br>\n",
    "New Center 2: $6.5$<br><br>\n",
    "\n",
    "There was no change so we're done with centroids `{1, 6.5}` and clusters `[0, 0.5, 1.5, 2]` and `[6, 6.5, 7]`"
   ]
  },
  {
   "cell_type": "markdown",
   "metadata": {},
   "source": [
    "b) Describe in plain english what the cost function for k means is."
   ]
  },
  {
   "attachments": {},
   "cell_type": "markdown",
   "metadata": {},
   "source": [
    "The cost function of k means is the squared distance of all the points in a cluster to their closest centroid. The goal is to minimize this cost."
   ]
  },
  {
   "cell_type": "markdown",
   "metadata": {},
   "source": [
    "c) For the same number of clusters K, why could there be very different solutions to the K means algorithm on a given dataset?"
   ]
  },
  {
   "attachments": {},
   "cell_type": "markdown",
   "metadata": {},
   "source": [
    "There could be different solutions because of the initial centroids that are selected. Since the selection of the initial centroids is random, it's very possible for the algorithm to come up with different solutions even on the same dataset."
   ]
  },
  {
   "cell_type": "markdown",
   "metadata": {},
   "source": [
    "d) Does Lloyd's Algorithm always converge? Why / why not?"
   ]
  },
  {
   "attachments": {},
   "cell_type": "markdown",
   "metadata": {},
   "source": [
    "Lloyd's Algorithm will always converge as it is a greedy algorithm and eventually, it will reach a solution. The caveat is it is not guaranteed to find the global minimum(optimal solution) because of its greedy approach."
   ]
  }
 ],
 "metadata": {
  "kernelspec": {
   "display_name": "Python 3",
   "language": "python",
   "name": "python3"
  },
  "language_info": {
   "codemirror_mode": {
    "name": "ipython",
    "version": 3
   },
   "file_extension": ".py",
   "mimetype": "text/x-python",
   "name": "python",
   "nbconvert_exporter": "python",
   "pygments_lexer": "ipython3",
   "version": "3.7.2"
  },
  "orig_nbformat": 4,
  "vscode": {
   "interpreter": {
    "hash": "e534e48711db4d1e1c48977d0d14ff85b1f16d41bcc4fdfd88268a329b3c9d66"
   }
  }
 },
 "nbformat": 4,
 "nbformat_minor": 2
}
