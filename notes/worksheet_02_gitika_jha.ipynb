{
 "cells": [
  {
   "attachments": {},
   "cell_type": "markdown",
   "metadata": {},
   "source": [
    "# Worksheet 02\n",
    "\n",
    "Name: Gitika Jha \n",
    "UID: U10690464\n",
    "\n",
    "### Topics\n",
    "\n",
    "- Effective Programming\n",
    "\n",
    "### Effective Programming\n",
    "\n",
    "a) What is a drawback of the top down approach?"
   ]
  },
  {
   "attachments": {},
   "cell_type": "markdown",
   "metadata": {},
   "source": [
    "- requires more organization\n",
    "- if you do not know all the requirements up front, this is difficult to implement"
   ]
  },
  {
   "cell_type": "markdown",
   "metadata": {},
   "source": [
    "b) What is a drawback of the bottom up approach?"
   ]
  },
  {
   "attachments": {},
   "cell_type": "markdown",
   "metadata": {},
   "source": [
    "- it is very inflexible\n",
    "- you cannot visualize or test the code until the entire code is done."
   ]
  },
  {
   "cell_type": "markdown",
   "metadata": {},
   "source": [
    "c) What are 3 things you can do to have a better debugging experience?"
   ]
  },
  {
   "attachments": {},
   "cell_type": "markdown",
   "metadata": {},
   "source": [
    "1. Once you do get a bug, actually read the error and get the sense of what the root cause of the error is.\n",
    "2. Stay organized with your code, plan ahead\n",
    "3. Do constant \"sanity checks\", which is compartmentalize your code in such a way that you know that at some point, your code is working and that there is no fundamental error later on in the code."
   ]
  },
  {
   "attachments": {},
   "cell_type": "markdown",
   "metadata": {},
   "source": [
    "d) (Optional) Follow along with the live coding. You can write your code here:"
   ]
  },
  {
   "attachments": {},
   "cell_type": "markdown",
   "metadata": {},
   "source": [
    "8 queens - \n",
    "8x8 grid\n",
    "Can't have 2 queens on the same row, same column or the same diagonal\n",
    "\n",
    "\n",
    "Approach - Using DFS and backtracking\n",
    "1. Start with the queen at the top left corner of \n",
    "2. Realize where you CANT put queens\n",
    "3. You have placed 7 queens so far\n",
    "4. Problem for the 8th queen!\n",
    "    1. Change location for last queen and check again and keep backtracking till you get to the problem piece\n",
    "    \n"
   ]
  },
  {
   "cell_type": "code",
   "execution_count": 2,
   "metadata": {},
   "outputs": [],
   "source": [
    "# Live coding\n",
    "\n",
    "# Code isn't completed yet so if you run, you will encounter an error. \n",
    "# Will be updated by next class\n",
    "\n",
    "\n",
    "class Board():\n",
    "\n",
    "    def __init__(self):\n",
    "        self.board = [[\" - \"] for _ in range(8) for _ in range(8)]\n",
    "\n",
    "\n",
    "    def __repr__(self):\n",
    "        return \"\\n\".join([\" \".join(x) for x in self.board])\n",
    "\n",
    "    def is_valid_move(self, row, col):\n",
    "        True\n",
    "\n",
    "    def set_queen_at(self, row, col):\n",
    "        self.board[row][col] = \" Q \"\n",
    "\n",
    "    def unset_queen_at(self, row):\n",
    "        self.board[row] = [\" - \" for _ in range(8)]\n",
    "\n",
    "    def find_queen_on(self, row):\n",
    "        for col in range(8):\n",
    "            if self.board[row][col] == \" Q \":\n",
    "                return col\n",
    "        raise ValueError(\"You messed up\")\n",
    "\n",
    "\n",
    "    def search(self):\n",
    "        row = 0 \n",
    "        col = 0\n",
    "\n",
    "        while row < 8 and row >= 0:\n",
    "            if self.is_valid_move(row, col):\n",
    "                self.set_queen_at(row, col)\n",
    "                row += 1\n",
    "                col = 0\n",
    "\n",
    "            else:\n",
    "                col += 1\n",
    "                if col>= 8:\n",
    "                    #backtrack\n",
    "                    col = self.find_queen_on(row - 1) # we have to add another check to see if this is out of bounds\n",
    "                    self.unset_queen_at(row - 1)\n",
    "                    row -= 1\n",
    "\n",
    "            print(self)\n",
    "\n",
    "\n",
    "board = Board()\n",
    "print(board)\n",
    "print()\n",
    "board.search()\n"
   ]
  }
 ],
 "metadata": {
  "kernelspec": {
   "display_name": "base",
   "language": "python",
   "name": "python3"
  },
  "language_info": {
   "codemirror_mode": {
    "name": "ipython",
    "version": 3
   },
   "file_extension": ".py",
   "mimetype": "text/x-python",
   "name": "python",
   "nbconvert_exporter": "python",
   "pygments_lexer": "ipython3",
   "version": "3.8.5"
  },
  "orig_nbformat": 4,
  "vscode": {
   "interpreter": {
    "hash": "69e9b2eff848b62a09b50f6825fab20edddb8bffa0d9ff0421ad631685e029c4"
   }
  }
 },
 "nbformat": 4,
 "nbformat_minor": 2
}
